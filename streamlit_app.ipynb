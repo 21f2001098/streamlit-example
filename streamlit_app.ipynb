{
  "nbformat": 4,
  "nbformat_minor": 0,
  "metadata": {
    "colab": {
      "provenance": [],
      "authorship_tag": "ABX9TyPfSBSF/tdzXGCxwS2wd4x4",
      "include_colab_link": true
    },
    "kernelspec": {
      "name": "python3",
      "display_name": "Python 3"
    },
    "language_info": {
      "name": "python"
    }
  },
  "cells": [
    {
      "cell_type": "markdown",
      "metadata": {
        "id": "view-in-github",
        "colab_type": "text"
      },
      "source": [
        "<a href=\"https://colab.research.google.com/github/21f2001098/streamlit-example/blob/master/streamlit_app.ipynb\" target=\"_parent\"><img src=\"https://colab.research.google.com/assets/colab-badge.svg\" alt=\"Open In Colab\"/></a>"
      ]
    },
    {
      "cell_type": "code",
      "source": [
        "import streamlit as st\n",
        "\n",
        "def main():\n",
        "    st.title(\"Find the Largest Number\")\n",
        "\n",
        "    # Input from the user for three numbers\n",
        "    num1 = st.number_input(\"Enter the first number:\")\n",
        "    num2 = st.number_input(\"Enter the second number:\")\n",
        "    num3 = st.number_input(\"Enter the third number:\")\n",
        "\n",
        "    # Find the largest number among the three\n",
        "    largest_number = max(num1, num2, num3)\n",
        "\n",
        "    # Display the result\n",
        "    st.write(\"The largest number is:\", largest_number)\n",
        "\n",
        "if __name__ == \"__main__\":\n",
        "    main()"
      ],
      "metadata": {
        "id": "JgM__rdMZHTm"
      },
      "execution_count": 19,
      "outputs": []
    }
  ]
}